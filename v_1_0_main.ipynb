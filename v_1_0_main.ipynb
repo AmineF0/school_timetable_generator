{
 "cells": [
  {
   "cell_type": "markdown",
   "metadata": {},
   "source": [
    "What 's new ?\n",
    "\n",
    "* notion of teacher\n",
    "* teacher oriented approach for reducing space and having a more teacher oriented-solution"
   ]
  },
  {
   "cell_type": "code",
   "execution_count": 1,
   "metadata": {},
   "outputs": [],
   "source": [
    "import numpy as np"
   ]
  },
  {
   "cell_type": "code",
   "execution_count": 5,
   "metadata": {},
   "outputs": [
    {
     "data": {
      "text/plain": [
       "{'nbr_of_days': 5,\n",
       " 'nbr_of_periods_per_day': 4,\n",
       " 'classes_data': {'groups': ['A', 'B', 'C'],\n",
       "  'teachers': [{'name': 'math_teacher',\n",
       "    'subjects_groups_period': {'math': {'A': 4, 'B': 4, 'C': 4},\n",
       "     'english': {'A': 0, 'B': 0, 'C': 0},\n",
       "     'science': {'A': 0, 'B': 0, 'C': 0}},\n",
       "    'nbr_of_periods': 12},\n",
       "   {'name': 'english_teacher',\n",
       "    'subjects_groups_period': {'math': {'A': 0, 'B': 0, 'C': 0},\n",
       "     'english': {'A': 4, 'B': 4, 'C': 4},\n",
       "     'science': {'A': 0, 'B': 0, 'C': 0}},\n",
       "    'nbr_of_periods': 12},\n",
       "   {'name': 'science_teacher',\n",
       "    'subjects_groups_period': {'math': {'A': 0, 'B': 0, 'C': 0},\n",
       "     'english': {'A': 0, 'B': 0, 'C': 0},\n",
       "     'science': {'A': 2, 'B': 2, 'C': 2}},\n",
       "    'nbr_of_periods': 6}],\n",
       "  'subjects': ['math', 'english', 'science']},\n",
       " 'nbr_of_teachers': 3,\n",
       " 'nbr_of_subjects': 3,\n",
       " 'slots': 30,\n",
       " 'time_slots': 20,\n",
       " 'teachers_slots_array': [12, 12, 6]}"
      ]
     },
     "execution_count": 5,
     "metadata": {},
     "output_type": "execute_result"
    }
   ],
   "source": [
    "timetable_constraints = {\n",
    "  \"nbr_of_days\": 5,\n",
    "  \"nbr_of_periods_per_day\": 4,\n",
    "  \"classes_data\": {\n",
    "    \"groups\": [\"A\", \"B\", \"C\"],\n",
    "    \"teachers\": [\n",
    "       {\n",
    "          \"name\": \"math_teacher\",\n",
    "          \"subjects_groups_period\": {\n",
    "            \"math\": {\n",
    "              \"A\": 4,\n",
    "              \"B\": 4,\n",
    "              \"C\": 4,\n",
    "            },\n",
    "            \"english\": {\n",
    "              \"A\": 0,\n",
    "              \"B\": 0,\n",
    "              \"C\": 0,\n",
    "            },\n",
    "            \"science\": {\n",
    "              \"A\": 0,\n",
    "              \"B\": 0,\n",
    "              \"C\": 0,\n",
    "            },\n",
    "          }\n",
    "        },\n",
    "        {\n",
    "          \"name\": \"english_teacher\",\n",
    "          \"subjects_groups_period\": {\n",
    "            \"math\": {\n",
    "              \"A\": 0,\n",
    "              \"B\": 0,\n",
    "              \"C\": 0,\n",
    "            },\n",
    "            \"english\": {\n",
    "              \"A\": 4,\n",
    "              \"B\": 4,\n",
    "              \"C\": 4,\n",
    "            },\n",
    "            \"science\": {\n",
    "              \"A\": 0,\n",
    "              \"B\": 0,\n",
    "              \"C\": 0,\n",
    "            },\n",
    "          }\n",
    "        },\n",
    "        {\n",
    "          \"name\": \"science_teacher\",\n",
    "          \"subjects_groups_period\": {\n",
    "            \"math\": {\n",
    "              \"A\": 0,\n",
    "              \"B\": 0,\n",
    "              \"C\": 0,\n",
    "            },\n",
    "            \"english\": {\n",
    "              \"A\": 0,\n",
    "              \"B\": 0,\n",
    "              \"C\": 0,\n",
    "            },\n",
    "            \"science\": {\n",
    "              \"A\": 2,\n",
    "              \"B\": 2,\n",
    "              \"C\": 2,\n",
    "            },\n",
    "          }\n",
    "        },\n",
    "\n",
    "    ],\n",
    "    \"subjects\": [\"math\", \"english\", \"science\"],\n",
    "  }\n",
    "}\n",
    "\n",
    "timetable_constraints[\"nbr_of_teachers\"] = len(timetable_constraints[\"classes_data\"][\"teachers\"])\n",
    "timetable_constraints[\"nbr_of_subjects\"] = len(timetable_constraints[\"classes_data\"][\"subjects\"])\n",
    "\n",
    "# give each teacher the number of periods he/she can teach\n",
    "for teacher in timetable_constraints[\"classes_data\"][\"teachers\"]:\n",
    "  teacher[\"nbr_of_periods\"] = 0\n",
    "  for subject in teacher[\"subjects_groups_period\"]:\n",
    "    for group in teacher[\"subjects_groups_period\"][subject]:\n",
    "      teacher[\"nbr_of_periods\"] += teacher[\"subjects_groups_period\"][subject][group]\n",
    "\n",
    "# slots by teacher\n",
    "timetable_constraints[\"slots\"] = 0\n",
    "for teacher in timetable_constraints[\"classes_data\"][\"teachers\"]:\n",
    "  timetable_constraints[\"slots\"] += teacher[\"nbr_of_periods\"]\n",
    "\n",
    "# slots by timetable\n",
    "timetable_constraints[\"time_slots\"] = timetable_constraints[\"nbr_of_days\"] * timetable_constraints[\"nbr_of_periods_per_day\"]\n",
    "\n",
    "timetable_constraints[\"teachers_slots_array\"] = []\n",
    "for teacher in timetable_constraints[\"classes_data\"][\"teachers\"]:\n",
    "  timetable_constraints[\"teachers_slots_array\"].append(teacher[\"nbr_of_periods\"])\n",
    "\n",
    "timetable_constraints"
   ]
  },
  {
   "cell_type": "code",
   "execution_count": 3,
   "metadata": {},
   "outputs": [],
   "source": [
    "class Timetable:\n",
    "  def __init__(self, npArray, constraints):\n",
    "    self.constraints = constraints\n",
    "    # timetable as a 3d array ( group, day, period) => subject from npArray\n",
    "    self.timetable = npArray.reshape(\n",
    "      (constraints[\"nbr_of_groups\"], constraints[\"nbr_of_days\"], constraints[\"nbr_of_periods_per_day\"])\n",
    "    )\n",
    "    pass\n",
    "\n",
    "  def toNpArray(self):\n",
    "    return self.timetable.flatten()\n",
    "\n",
    "  def isValid(self):\n",
    "    pass\n",
    "\n",
    "  def fitness(self):\n",
    "    pass\n",
    "\n",
    "  def plot(self):\n",
    "    pass\n",
    "\n",
    "  def print(self):\n",
    "    pass"
   ]
  },
  {
   "cell_type": "code",
   "execution_count": 4,
   "metadata": {},
   "outputs": [],
   "source": [
    "import pygad"
   ]
  },
  {
   "cell_type": "code",
   "execution_count": 5,
   "metadata": {},
   "outputs": [],
   "source": [
    "def fitness_func(ga_instance, solution, solution_idx):\n",
    "    timeTable = Timetable(solution, timetable_constraints)\n",
    "    fitness = timeTable.fitness()\n",
    "    return fitness"
   ]
  },
  {
   "cell_type": "code",
   "execution_count": 6,
   "metadata": {},
   "outputs": [],
   "source": [
    "fitness_function = fitness_func\n",
    "\n",
    "num_generations = 2000\n",
    "num_parents_mating = 50\n",
    "\n",
    "sol_per_pop = 200\n",
    "gene_space = [ \n",
    "              { \n",
    "                \"low\" : -1, \n",
    "                \"high\": timetable_constraints[\"nbr_of_subjects\"],\n",
    "                \"step\": 1\n",
    "              } \n",
    "              for _ in range(timetable_constraints[\"nbr_of_groups\"] * timetable_constraints[\"nbr_of_days\"] * timetable_constraints[\"nbr_of_periods_per_day\"])\n",
    "             ]\n",
    "num_genes = timetable_constraints[\"nbr_of_days\"] * timetable_constraints[\"nbr_of_periods_per_day\"] * timetable_constraints[\"nbr_of_groups\"]\n",
    "gene_type = [int for _ in range(num_genes)]\n",
    "\n",
    "parent_selection_type = \"sss\"\n",
    "keep_parents = 1\n",
    "\n",
    "crossover_type = \"single_point\"\n",
    "\n",
    "mutation_type = \"random\"\n",
    "mutation_percent_genes = 10"
   ]
  },
  {
   "cell_type": "code",
   "execution_count": null,
   "metadata": {},
   "outputs": [],
   "source": []
  },
  {
   "cell_type": "code",
   "execution_count": 7,
   "metadata": {},
   "outputs": [
    {
     "name": "stderr",
     "output_type": "stream",
     "text": [
      "Fitness=0.9200\t: 100%|████████████████████| 2000/2000 [07:32<00:00,  4.42it/s]\n"
     ]
    },
    {
     "name": "stdout",
     "output_type": "stream",
     "text": [
      "Fitness of the best solution : 0.9200000000001001\n"
     ]
    },
    {
     "name": "stderr",
     "output_type": "stream",
     "text": [
      "No artists with labels found to put in legend.  Note that artists whose label start with an underscore are ignored when legend() is called with no argument.\n"
     ]
    },
    {
     "data": {
      "image/png": "[encoded data removed]",
      "text/plain": [
       "<Figure size 640x480 with 1 Axes>"
      ]
     },
     "metadata": {},
     "output_type": "display_data"
    },
    {
     "data": {
      "image/png": "[encoded data removed]",
      "text/plain": [
       "<Figure size 640x480 with 1 Axes>"
      ]
     },
     "execution_count": 7,
     "metadata": {},
     "output_type": "execute_result"
    }
   ],
   "source": [
    "from tqdm import tqdm\n",
    "progress_bar = tqdm(total=num_generations, bar_format='{l_bar}{bar:20}{r_bar}{bar:-10b}')\n",
    "\n",
    "def on_gen(ga_instance):\n",
    "    progress_bar.update(1)\n",
    "    progress_bar.set_description_str(\"Fitness={fitness:.4f}\\t\".format(fitness=ga_instance.best_solution()[1]))\n",
    "    # print(\"Fitness of the best solution :\", ga_instance.best_solution()[1])\n",
    "\n",
    "def on_stop(ga_instance, last_generation_fitness):\n",
    "    progress_bar.close()\n",
    "    print(\"Fitness of the best solution :\", ga_instance.best_solution()[1])\n",
    "\n",
    "ga_instance = pygad.GA(num_generations=num_generations,\n",
    "                       on_generation=on_gen,\n",
    "                       num_parents_mating=num_parents_mating,\n",
    "                       fitness_func=fitness_function,\n",
    "                       sol_per_pop=sol_per_pop,\n",
    "                       gene_space=gene_space,\n",
    "                       parent_selection_type=parent_selection_type,\n",
    "                       keep_parents=keep_parents,\n",
    "                       crossover_type=crossover_type,\n",
    "                       mutation_type=mutation_type,\n",
    "                       mutation_percent_genes=mutation_percent_genes,\n",
    "                      #  mutation_probability=[0.5, 0.1],\n",
    "                       gene_type=gene_type,\n",
    "                       num_genes=num_genes,\n",
    "                       on_stop=on_stop\n",
    "                      )\n",
    "\n",
    "ga_instance.run()\n",
    "ga_instance.plot_fitness()"
   ]
  },
  {
   "cell_type": "code",
   "execution_count": 8,
   "metadata": {},
   "outputs": [],
   "source": [
    "progress_bar.close()"
   ]
  },
  {
   "cell_type": "code",
   "execution_count": 9,
   "metadata": {},
   "outputs": [
    {
     "name": "stdout",
     "output_type": "stream",
     "text": [
      "Parameters of the best solution : [2 0 1 -1 2 0 2 1 -1 0 1 2 -1 0 1 2 1 1 -1 2 0 -1 0 1 2 2 2 2 -1 0 -1 1 1\n",
      " 2 1 -1 0 2 1 1 2 -1 1 2 1 0 0 2 1 -1 0 2 1 1 -1 2 0 -1 1 2]\n",
      "Fitness value of the best solution = 0.9200000000001001\n"
     ]
    }
   ],
   "source": [
    "solution, solution_fitness, solution_idx = ga_instance.best_solution()\n",
    "print(\"Parameters of the best solution : {solution}\".format(solution=solution))\n",
    "print(\"Fitness value of the best solution = {solution_fitness}\".format(solution_fitness=solution_fitness))"
   ]
  },
  {
   "cell_type": "code",
   "execution_count": 10,
   "metadata": {},
   "outputs": [],
   "source": [
    "timetable = Timetable(solution, timetable_constraints)"
   ]
  },
  {
   "cell_type": "code",
   "execution_count": 11,
   "metadata": {},
   "outputs": [
    {
     "data": {
      "text/html": [
       "<div>\n",
       "<style scoped>\n",
       "    .dataframe tbody tr th:only-of-type {\n",
       "        vertical-align: middle;\n",
       "    }\n",
       "\n",
       "    .dataframe tbody tr th {\n",
       "        vertical-align: top;\n",
       "    }\n",
       "\n",
       "    .dataframe thead th {\n",
       "        text-align: right;\n",
       "    }\n",
       "</style>\n",
       "<table border=\"1\" class=\"dataframe\">\n",
       "  <thead>\n",
       "    <tr style=\"text-align: right;\">\n",
       "      <th></th>\n",
       "      <th>0</th>\n",
       "      <th>1</th>\n",
       "      <th>2</th>\n",
       "      <th>3</th>\n",
       "      <th>4</th>\n",
       "    </tr>\n",
       "  </thead>\n",
       "  <tbody>\n",
       "    <tr>\n",
       "      <th>Day</th>\n",
       "      <td>Day 1</td>\n",
       "      <td>Day 2</td>\n",
       "      <td>Day 3</td>\n",
       "      <td>Day 4</td>\n",
       "      <td>Day 5</td>\n",
       "    </tr>\n",
       "    <tr>\n",
       "      <th>0</th>\n",
       "      <td>Anglais</td>\n",
       "      <td>Français</td>\n",
       "      <td>Français</td>\n",
       "      <td>Français</td>\n",
       "      <td>Maths</td>\n",
       "    </tr>\n",
       "    <tr>\n",
       "      <th>1</th>\n",
       "      <td>-</td>\n",
       "      <td>Maths</td>\n",
       "      <td>-</td>\n",
       "      <td>Français</td>\n",
       "      <td>-</td>\n",
       "    </tr>\n",
       "    <tr>\n",
       "      <th>2</th>\n",
       "      <td>Français</td>\n",
       "      <td>Maths</td>\n",
       "      <td>Maths</td>\n",
       "      <td>-</td>\n",
       "      <td>Français</td>\n",
       "    </tr>\n",
       "    <tr>\n",
       "      <th>3</th>\n",
       "      <td>Anglais</td>\n",
       "      <td>Anglais</td>\n",
       "      <td>Anglais</td>\n",
       "      <td>Anglais</td>\n",
       "      <td>Anglais</td>\n",
       "    </tr>\n",
       "  </tbody>\n",
       "</table>\n",
       "</div>"
      ],
      "text/plain": [
       "            0         1         2         3         4\n",
       "Day     Day 1     Day 2     Day 3     Day 4     Day 5\n",
       "0     Anglais  Français  Français  Français     Maths\n",
       "1           -     Maths         -  Français         -\n",
       "2    Français     Maths     Maths         -  Français\n",
       "3     Anglais   Anglais   Anglais   Anglais   Anglais"
      ]
     },
     "execution_count": 11,
     "metadata": {},
     "output_type": "execute_result"
    }
   ],
   "source": [
    "table = timetable.timetable\n",
    "table = [[[\"-\" if period == -1 else timetable_constraints[\"subject_names\"][period] for period in day] for day in group] for group in table]\n",
    "\n",
    "import pandas as pd\n",
    "table_pd = pd.DataFrame(table[2])\n",
    "# add day and period columns\n",
    "table_pd.insert(0, \"Day\", [\"Day \"+str(i) for i in range(1, timetable_constraints[\"nbr_of_days\"]+1)])\n",
    "#rotate the table\n",
    "table_pd = table_pd.transpose()\n",
    "table_pd"
   ]
  }
 ],
 "metadata": {
  "kernelspec": {
   "display_name": "v0.0",
   "language": "python",
   "name": "python3"
  },
  "language_info": {
   "codemirror_mode": {
    "name": "ipython",
    "version": 3
   },
   "file_extension": ".py",
   "mimetype": "text/x-python",
   "name": "python",
   "nbconvert_exporter": "python",
   "pygments_lexer": "ipython3",
   "version": "3.10.11"
  },
  "orig_nbformat": 4
 },
 "nbformat": 4,
 "nbformat_minor": 2
}
