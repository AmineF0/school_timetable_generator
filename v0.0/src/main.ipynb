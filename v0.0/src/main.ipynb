{
 "cells": [
  {
   "cell_type": "code",
   "execution_count": 49,
   "metadata": {},
   "outputs": [],
   "source": [
    "import numpy as np"
   ]
  },
  {
   "cell_type": "code",
   "execution_count": 50,
   "metadata": {},
   "outputs": [],
   "source": [
    "timetable_constraints = {\n",
    "  \"nbr_of_days\": 5,\n",
    "  \"nbr_of_periods_per_day\": 4,\n",
    "  \"nbr_of_subjects\": 5,\n",
    "  \"nbr_of_groups\": 5,\n",
    "  \"periods_by_subject\": [4, 4, 4, 2, 2],\n",
    "  \"subject_names\": [\"Maths\", \"Français\", \"Anglais\", \"SVT\", \"PC\"],\n",
    "  \"group_names\": [\"Groupe 1\", \"Groupe 2\", \"Gr 3\", \"Gr 4\", \"Gr 5\"],\n",
    "  \"preferences\":{\n",
    "    \"total_count\": 8,\n",
    "    \"morning_classes\": [0, 3, 4],\n",
    "  }\n",
    "}"
   ]
  },
  {
   "cell_type": "code",
   "execution_count": 51,
   "metadata": {},
   "outputs": [],
   "source": [
    "class Timetable:\n",
    "  def __init__(self, npArray, constraints):\n",
    "    self.constraints = constraints\n",
    "    # timetable as a 3d array ( group, day, period) => subject from npArray\n",
    "    self.timetable = npArray.reshape(\n",
    "      (constraints[\"nbr_of_groups\"], constraints[\"nbr_of_days\"], constraints[\"nbr_of_periods_per_day\"])\n",
    "    )\n",
    "    pass\n",
    "\n",
    "  def toNpArray(self):\n",
    "    return self.timetable.flatten()\n",
    "\n",
    "  def isValid(self):\n",
    "    pass\n",
    "\n",
    "  def fitness(self):\n",
    "    # return 1 if it is a valid timetable\n",
    "    # return 0 if it is totally not\n",
    "    # return a value between 0 and 0.8 if it is partially valid\n",
    "    # a valid timetable is a timetable that respects all the constraints\n",
    "    # a partially valid timetable is a timetable that respects some of the constraints\n",
    "    # a totally invalid timetable is a timetable that respects none of the constraints\n",
    "    # the value returned is the percentage of constraints that are respected\n",
    "\n",
    "    respected_constraints = 0\n",
    "    total_constraints = 0\n",
    "\n",
    "    for group in self.timetable:\n",
    "      subject_periods_in_table = np.zeros(self.constraints[\"nbr_of_subjects\"])\n",
    "      for day in group :\n",
    "        for period in day:\n",
    "          if period == -1: continue\n",
    "          subject_periods_in_table[period]+=1\n",
    "      respected_constraints += np.sum(subject_periods_in_table == self.constraints[\"periods_by_subject\"])\n",
    "      total_constraints += self.constraints[\"nbr_of_subjects\"]\n",
    "      \n",
    "    score = 0.6*respected_constraints/total_constraints if respected_constraints < total_constraints else 0.8\n",
    "\n",
    "    bonus = 0\n",
    "    # check if the morning classes constraint is respected\n",
    "    for group in self.timetable:\n",
    "      for day in group:\n",
    "        for period in day:\n",
    "          if period == -1: continue\n",
    "          if period in self.constraints[\"preferences\"][\"morning_classes\"] and (day[0] == period or day[1] == period):\n",
    "            bonus += 1\n",
    "            break\n",
    "\n",
    "    score += 0.2*bonus / self.constraints[\"preferences\"][\"total_count\"]\n",
    "\n",
    "    return score + 0.0000000000001\n",
    "\n",
    "  def plot(self):\n",
    "    pass\n",
    "\n",
    "  def print(self):\n",
    "    print(self.fitness())\n",
    "    i=0\n",
    "    for group in self.timetable:\n",
    "      i+=1\n",
    "      print(\"Group : \"+str(i))\n",
    "      print(group)"
   ]
  },
  {
   "cell_type": "code",
   "execution_count": 52,
   "metadata": {},
   "outputs": [],
   "source": [
    "import pygad"
   ]
  },
  {
   "cell_type": "code",
   "execution_count": 53,
   "metadata": {},
   "outputs": [],
   "source": [
    "def fitness_func(ga_instance, solution, solution_idx):\n",
    "    timeTable = Timetable(solution, timetable_constraints)\n",
    "    fitness = timeTable.fitness()\n",
    "    return fitness"
   ]
  },
  {
   "cell_type": "code",
   "execution_count": 54,
   "metadata": {},
   "outputs": [],
   "source": [
    "fitness_function = fitness_func\n",
    "\n",
    "num_generations = 1000\n",
    "num_parents_mating = 10\n",
    "\n",
    "sol_per_pop = 100\n",
    "gene_space = [ \n",
    "              { \n",
    "                \"low\" : -1, \n",
    "                \"high\": timetable_constraints[\"nbr_of_subjects\"],\n",
    "                \"step\": 1\n",
    "              } \n",
    "              for _ in range(timetable_constraints[\"nbr_of_groups\"] * timetable_constraints[\"nbr_of_days\"] * timetable_constraints[\"nbr_of_periods_per_day\"])\n",
    "             ]\n",
    "num_genes = timetable_constraints[\"nbr_of_days\"] * timetable_constraints[\"nbr_of_periods_per_day\"] * timetable_constraints[\"nbr_of_groups\"]\n",
    "gene_type = [int for _ in range(num_genes)]\n",
    "\n",
    "parent_selection_type = \"sus\"\n",
    "keep_parents = 1\n",
    "\n",
    "crossover_type = \"single_point\"\n",
    "\n",
    "mutation_type = \"random\"\n",
    "mutation_percent_genes = 10"
   ]
  },
  {
   "cell_type": "code",
   "execution_count": null,
   "metadata": {},
   "outputs": [],
   "source": []
  },
  {
   "cell_type": "code",
   "execution_count": 56,
   "metadata": {},
   "outputs": [
    {
     "name": "stderr",
     "output_type": "stream",
     "text": [
      "\n",
      "\n",
      "Fitness=0.9360000000001002:  27%|█████▍              | 273/1000 [00:27<01:13,  9.86it/s]\n",
      "\n",
      "\n",
      "\u001b[A\u001b[A\n",
      "\n",
      "\u001b[A\u001b[A\n",
      "\n",
      "\u001b[A\u001b[A\n",
      "\n",
      "\u001b[A\u001b[A\n",
      "\n",
      "\u001b[A\u001b[A\n",
      "\n",
      "\u001b[A\u001b[A\n",
      "\n",
      "\u001b[A\u001b[A\n",
      "\n",
      "\u001b[A\u001b[A\n",
      "\n",
      "\u001b[A\u001b[A\n",
      "\n",
      "\u001b[A\u001b[A\n",
      "\n",
      "\u001b[A\u001b[A\n",
      "\n",
      "\u001b[A\u001b[A\n",
      "\n",
      "\u001b[A\u001b[A\n",
      "\n",
      "\u001b[A\u001b[A\n",
      "\n",
      "\u001b[A\u001b[A\n",
      "\n",
      "\u001b[A\u001b[A\n",
      "\n",
      "\u001b[A\u001b[A\n",
      "\n",
      "\u001b[A\u001b[A"
     ]
    },
    {
     "ename": "KeyboardInterrupt",
     "evalue": "",
     "output_type": "error",
     "traceback": [
      "\u001b[1;31m---------------------------------------------------------------------------\u001b[0m",
      "\u001b[1;31mKeyboardInterrupt\u001b[0m                         Traceback (most recent call last)",
      "\u001b[1;32mc:\\Users\\Amine\\Desktop\\projects\\school_timetable_generator\\v0.0\\src\\main.ipynb Cell 8\u001b[0m line \u001b[0;36m2\n\u001b[0;32m      <a href='vscode-notebook-cell:/c%3A/Users/Amine/Desktop/projects/school_timetable_generator/v0.0/src/main.ipynb#W6sZmlsZQ%3D%3D?line=6'>7</a>\u001b[0m     \u001b[39m# print(\"Fitness of the best solution :\", ga_instance.best_solution()[1])\u001b[39;00m\n\u001b[0;32m      <a href='vscode-notebook-cell:/c%3A/Users/Amine/Desktop/projects/school_timetable_generator/v0.0/src/main.ipynb#W6sZmlsZQ%3D%3D?line=8'>9</a>\u001b[0m ga_instance \u001b[39m=\u001b[39m pygad\u001b[39m.\u001b[39mGA(num_generations\u001b[39m=\u001b[39mnum_generations,\n\u001b[0;32m     <a href='vscode-notebook-cell:/c%3A/Users/Amine/Desktop/projects/school_timetable_generator/v0.0/src/main.ipynb#W6sZmlsZQ%3D%3D?line=9'>10</a>\u001b[0m                        on_generation\u001b[39m=\u001b[39mon_gen,\n\u001b[0;32m     <a href='vscode-notebook-cell:/c%3A/Users/Amine/Desktop/projects/school_timetable_generator/v0.0/src/main.ipynb#W6sZmlsZQ%3D%3D?line=10'>11</a>\u001b[0m                        num_parents_mating\u001b[39m=\u001b[39mnum_parents_mating,\n\u001b[1;32m   (...)\u001b[0m\n\u001b[0;32m     <a href='vscode-notebook-cell:/c%3A/Users/Amine/Desktop/projects/school_timetable_generator/v0.0/src/main.ipynb#W6sZmlsZQ%3D%3D?line=21'>22</a>\u001b[0m                        num_genes\u001b[39m=\u001b[39mnum_genes\n\u001b[0;32m     <a href='vscode-notebook-cell:/c%3A/Users/Amine/Desktop/projects/school_timetable_generator/v0.0/src/main.ipynb#W6sZmlsZQ%3D%3D?line=22'>23</a>\u001b[0m                       )\n\u001b[1;32m---> <a href='vscode-notebook-cell:/c%3A/Users/Amine/Desktop/projects/school_timetable_generator/v0.0/src/main.ipynb#W6sZmlsZQ%3D%3D?line=24'>25</a>\u001b[0m ga_instance\u001b[39m.\u001b[39;49mrun()\n\u001b[0;32m     <a href='vscode-notebook-cell:/c%3A/Users/Amine/Desktop/projects/school_timetable_generator/v0.0/src/main.ipynb#W6sZmlsZQ%3D%3D?line=25'>26</a>\u001b[0m ga_instance\u001b[39m.\u001b[39mplot_fitness()\n",
      "File \u001b[1;32mc:\\Users\\Amine\\Desktop\\projects\\school_timetable_generator\\v0.0\\lib\\site-packages\\pygad\\pygad.py:2062\u001b[0m, in \u001b[0;36mGA.run\u001b[1;34m(self)\u001b[0m\n\u001b[0;32m   2060\u001b[0m         \u001b[39mraise\u001b[39;00m \u001b[39mTypeError\u001b[39;00m(\u001b[39mf\u001b[39m\u001b[39m\"\u001b[39m\u001b[39mThe output of the mutation step is expected to be of type (numpy.ndarray) but \u001b[39m\u001b[39m{\u001b[39;00m\u001b[39mtype\u001b[39m(\u001b[39mself\u001b[39m\u001b[39m.\u001b[39mlast_generation_offspring_mutation)\u001b[39m}\u001b[39;00m\u001b[39m found.\u001b[39m\u001b[39m\"\u001b[39m)\n\u001b[0;32m   2061\u001b[0m \u001b[39melse\u001b[39;00m:\n\u001b[1;32m-> 2062\u001b[0m     \u001b[39mself\u001b[39m\u001b[39m.\u001b[39mlast_generation_offspring_mutation \u001b[39m=\u001b[39m \u001b[39mself\u001b[39;49m\u001b[39m.\u001b[39;49mmutation(\u001b[39mself\u001b[39;49m\u001b[39m.\u001b[39;49mlast_generation_offspring_crossover)\n\u001b[0;32m   2064\u001b[0m \u001b[39mif\u001b[39;00m \u001b[39mself\u001b[39m\u001b[39m.\u001b[39mlast_generation_offspring_mutation\u001b[39m.\u001b[39mshape \u001b[39m!=\u001b[39m (\u001b[39mself\u001b[39m\u001b[39m.\u001b[39mnum_offspring, \u001b[39mself\u001b[39m\u001b[39m.\u001b[39mnum_genes):\n\u001b[0;32m   2065\u001b[0m     \u001b[39mif\u001b[39;00m \u001b[39mself\u001b[39m\u001b[39m.\u001b[39mlast_generation_offspring_mutation\u001b[39m.\u001b[39mshape[\u001b[39m0\u001b[39m] \u001b[39m!=\u001b[39m \u001b[39mself\u001b[39m\u001b[39m.\u001b[39mnum_offspring:\n",
      "File \u001b[1;32mc:\\Users\\Amine\\Desktop\\projects\\school_timetable_generator\\v0.0\\lib\\site-packages\\pygad\\utils\\mutation.py:32\u001b[0m, in \u001b[0;36mMutation.random_mutation\u001b[1;34m(self, offspring)\u001b[0m\n\u001b[0;32m     28\u001b[0m \u001b[39mif\u001b[39;00m \u001b[39mself\u001b[39m\u001b[39m.\u001b[39mmutation_probability \u001b[39mis\u001b[39;00m \u001b[39mNone\u001b[39;00m:\n\u001b[0;32m     29\u001b[0m     \u001b[39m# When the 'mutation_probability' parameter does not exist (i.e. None), then the parameter 'mutation_num_genes' is used in the mutation.\u001b[39;00m\n\u001b[0;32m     30\u001b[0m     \u001b[39mif\u001b[39;00m \u001b[39mnot\u001b[39;00m (\u001b[39mself\u001b[39m\u001b[39m.\u001b[39mgene_space \u001b[39mis\u001b[39;00m \u001b[39mNone\u001b[39;00m):\n\u001b[0;32m     31\u001b[0m         \u001b[39m# When the attribute 'gene_space' exists (i.e. not None), the mutation values are selected randomly from the space of values of each gene.\u001b[39;00m\n\u001b[1;32m---> 32\u001b[0m         offspring \u001b[39m=\u001b[39m \u001b[39mself\u001b[39;49m\u001b[39m.\u001b[39;49mmutation_by_space(offspring)\n\u001b[0;32m     33\u001b[0m     \u001b[39melse\u001b[39;00m:\n\u001b[0;32m     34\u001b[0m         offspring \u001b[39m=\u001b[39m \u001b[39mself\u001b[39m\u001b[39m.\u001b[39mmutation_randomly(offspring)\n",
      "File \u001b[1;32mc:\\Users\\Amine\\Desktop\\projects\\school_timetable_generator\\v0.0\\lib\\site-packages\\pygad\\utils\\mutation.py:91\u001b[0m, in \u001b[0;36mMutation.mutation_by_space\u001b[1;34m(self, offspring)\u001b[0m\n\u001b[0;32m     85\u001b[0m \u001b[39melif\u001b[39;00m \u001b[39mtype\u001b[39m(curr_gene_space) \u001b[39mis\u001b[39;00m \u001b[39mdict\u001b[39m:\n\u001b[0;32m     86\u001b[0m     \u001b[39m# The gene's space of type dict specifies the lower and upper limits of a gene.\u001b[39;00m\n\u001b[0;32m     87\u001b[0m     \u001b[39mif\u001b[39;00m \u001b[39m'\u001b[39m\u001b[39mstep\u001b[39m\u001b[39m'\u001b[39m \u001b[39min\u001b[39;00m curr_gene_space\u001b[39m.\u001b[39mkeys():\n\u001b[0;32m     88\u001b[0m         \u001b[39m# The numpy.random.choice() and numpy.random.uniform() functions return a NumPy array as the output even if the array has a single value.\u001b[39;00m\n\u001b[0;32m     89\u001b[0m         \u001b[39m# We have to return the output at index 0 to force a numeric value to be returned not an object of type numpy.ndarray. \u001b[39;00m\n\u001b[0;32m     90\u001b[0m         \u001b[39m# If numpy.ndarray is returned, then it will cause an issue later while using the set() function.\u001b[39;00m\n\u001b[1;32m---> 91\u001b[0m         value_from_space \u001b[39m=\u001b[39m numpy\u001b[39m.\u001b[39mrandom\u001b[39m.\u001b[39mchoice(numpy\u001b[39m.\u001b[39;49marange(start\u001b[39m=\u001b[39;49mcurr_gene_space[\u001b[39m'\u001b[39;49m\u001b[39mlow\u001b[39;49m\u001b[39m'\u001b[39;49m],\n\u001b[0;32m     92\u001b[0m                                                             stop\u001b[39m=\u001b[39;49mcurr_gene_space[\u001b[39m'\u001b[39;49m\u001b[39mhigh\u001b[39;49m\u001b[39m'\u001b[39;49m],\n\u001b[0;32m     93\u001b[0m                                                             step\u001b[39m=\u001b[39;49mcurr_gene_space[\u001b[39m'\u001b[39;49m\u001b[39mstep\u001b[39;49m\u001b[39m'\u001b[39;49m]),\n\u001b[0;32m     94\u001b[0m                                                size\u001b[39m=\u001b[39m\u001b[39m1\u001b[39m)[\u001b[39m0\u001b[39m]\n\u001b[0;32m     95\u001b[0m     \u001b[39melse\u001b[39;00m:\n\u001b[0;32m     96\u001b[0m         value_from_space \u001b[39m=\u001b[39m numpy\u001b[39m.\u001b[39mrandom\u001b[39m.\u001b[39muniform(low\u001b[39m=\u001b[39mcurr_gene_space[\u001b[39m'\u001b[39m\u001b[39mlow\u001b[39m\u001b[39m'\u001b[39m],\n\u001b[0;32m     97\u001b[0m                                                 high\u001b[39m=\u001b[39mcurr_gene_space[\u001b[39m'\u001b[39m\u001b[39mhigh\u001b[39m\u001b[39m'\u001b[39m],\n\u001b[0;32m     98\u001b[0m                                                 size\u001b[39m=\u001b[39m\u001b[39m1\u001b[39m)[\u001b[39m0\u001b[39m]\n",
      "\u001b[1;31mKeyboardInterrupt\u001b[0m: "
     ]
    }
   ],
   "source": [
    "from tqdm import tqdm\n",
    "progress_bar = tqdm(total=num_generations, bar_format='{l_bar}{bar:20}{r_bar}{bar:-10b}')\n",
    "\n",
    "def on_gen(ga_instance):\n",
    "    progress_bar.update(1)\n",
    "    progress_bar.set_description_str(\"Fitness={fitness:.4f}\\t\".format(fitness=ga_instance.best_solution()[1]))\n",
    "    # print(\"Fitness of the best solution :\", ga_instance.best_solution()[1])\n",
    "\n",
    "ga_instance = pygad.GA(num_generations=num_generations,\n",
    "                       on_generation=on_gen,\n",
    "                       num_parents_mating=num_parents_mating,\n",
    "                       fitness_func=fitness_function,\n",
    "                       sol_per_pop=sol_per_pop,\n",
    "                       gene_space=gene_space,\n",
    "                       parent_selection_type=parent_selection_type,\n",
    "                       keep_parents=keep_parents,\n",
    "                       crossover_type=crossover_type,\n",
    "                       mutation_type=mutation_type,\n",
    "                       mutation_percent_genes=mutation_percent_genes,\n",
    "                      #  mutation_probability=[0.5, 0.1],\n",
    "                       gene_type=gene_type,\n",
    "                       num_genes=num_genes\n",
    "                      )\n",
    "\n",
    "ga_instance.run()\n",
    "ga_instance.plot_fitness()"
   ]
  },
  {
   "cell_type": "code",
   "execution_count": null,
   "metadata": {},
   "outputs": [
    {
     "name": "stdout",
     "output_type": "stream",
     "text": [
      "Parameters of the best solution : [4 3 3 0 1 3 2 1 2 -1 -1 0 -1 0 2 0 3 2 3 -1 0 1 1 0 -1 0 3 0 4 1 0 1 -1\n",
      " -1 3 -1 4 0 -1 2 -1 1 2 3 2 2 4 1 -1 0 0 3 2 4 0 0 4 -1 4 4 1 0 4 0 3 -1\n",
      " 4 0 3 -1 2 -1 2 0 2 2 -1 1 1 1 2 0 2 1 3 2 2 -1 1 0 1 3 1 -1 1 0 0 4 1 4]\n",
      "Fitness value of the best solution = 1.0080000000001\n"
     ]
    }
   ],
   "source": [
    "solution, solution_fitness, solution_idx = ga_instance.best_solution()\n",
    "print(\"Parameters of the best solution : {solution}\".format(solution=solution))\n",
    "print(\"Fitness value of the best solution = {solution_fitness}\".format(solution_fitness=solution_fitness))"
   ]
  },
  {
   "cell_type": "code",
   "execution_count": null,
   "metadata": {},
   "outputs": [
    {
     "name": "stdout",
     "output_type": "stream",
     "text": [
      "1.0080000000001\n",
      "Group : 1\n",
      "[[4 3 3 0]\n",
      " [1 3 2 1]\n",
      " [2 -1 -1 0]\n",
      " [-1 0 2 0]\n",
      " [3 2 3 -1]]\n",
      "Group : 2\n",
      "[[0 1 1 0]\n",
      " [-1 0 3 0]\n",
      " [4 1 0 1]\n",
      " [-1 -1 3 -1]\n",
      " [4 0 -1 2]]\n",
      "Group : 3\n",
      "[[-1 1 2 3]\n",
      " [2 2 4 1]\n",
      " [-1 0 0 3]\n",
      " [2 4 0 0]\n",
      " [4 -1 4 4]]\n",
      "Group : 4\n",
      "[[1 0 4 0]\n",
      " [3 -1 4 0]\n",
      " [3 -1 2 -1]\n",
      " [2 0 2 2]\n",
      " [-1 1 1 1]]\n",
      "Group : 5\n",
      "[[2 0 2 1]\n",
      " [3 2 2 -1]\n",
      " [1 0 1 3]\n",
      " [1 -1 1 0]\n",
      " [0 4 1 4]]\n"
     ]
    }
   ],
   "source": [
    "timetable = Timetable(solution, timetable_constraints)\n",
    "timetable.print()"
   ]
  }
 ],
 "metadata": {
  "kernelspec": {
   "display_name": "v0.0",
   "language": "python",
   "name": "python3"
  },
  "language_info": {
   "codemirror_mode": {
    "name": "ipython",
    "version": 3
   },
   "file_extension": ".py",
   "mimetype": "text/x-python",
   "name": "python",
   "nbconvert_exporter": "python",
   "pygments_lexer": "ipython3",
   "version": "3.10.11"
  },
  "orig_nbformat": 4
 },
 "nbformat": 4,
 "nbformat_minor": 2
}
