{
 "cells": [
  {
   "cell_type": "code",
   "execution_count": 96,
   "metadata": {},
   "outputs": [],
   "source": [
    "import numpy as np"
   ]
  },
  {
   "cell_type": "code",
   "execution_count": 97,
   "metadata": {},
   "outputs": [],
   "source": [
    "timetable_constraints = {\n",
    "  \"nbr_of_days\": 5,\n",
    "  \"nbr_of_periods_per_day\": 4,\n",
    "  \"nbr_of_subjects\": 3,\n",
    "  \"nbr_of_groups\": 3,\n",
    "  \"periods_by_subject\": [4, 6, 6],\n",
    "  \"subject_names\": [\"Maths\", \"Français\", \"Anglais\"],\n",
    "  \"group_names\": [\"Groupe 1\", \"Groupe 2\", \"Group 3\"],\n",
    "  \"preferences\":{\n",
    "    \"total_count\": 15,\n",
    "    \"morning_classes\": [0],\n",
    "  }\n",
    "}"
   ]
  },
  {
   "cell_type": "code",
   "execution_count": 98,
   "metadata": {},
   "outputs": [],
   "source": [
    "class Timetable:\n",
    "  def __init__(self, npArray, constraints):\n",
    "    self.constraints = constraints\n",
    "    # timetable as a 3d array ( group, day, period) => subject from npArray\n",
    "    self.timetable = npArray.reshape(\n",
    "      (constraints[\"nbr_of_groups\"], constraints[\"nbr_of_days\"], constraints[\"nbr_of_periods_per_day\"])\n",
    "    )\n",
    "    pass\n",
    "\n",
    "  def toNpArray(self):\n",
    "    return self.timetable.flatten()\n",
    "\n",
    "  def isValid(self):\n",
    "    pass\n",
    "\n",
    "  def fitness(self):\n",
    "    # return 1 if it is a valid timetable\n",
    "    # return 0 if it is totally not\n",
    "    # return a value between 0 and 0.8 if it is partially valid\n",
    "    # a valid timetable is a timetable that respects all the constraints\n",
    "    # a partially valid timetable is a timetable that respects some of the constraints\n",
    "    # a totally invalid timetable is a timetable that respects none of the constraints\n",
    "    # the value returned is the percentage of constraints that are respected\n",
    "\n",
    "    respected_constraints = 0\n",
    "    total_constraints = 0\n",
    "\n",
    "    for group in self.timetable:\n",
    "      subject_periods_in_table = np.zeros(self.constraints[\"nbr_of_subjects\"])\n",
    "      for day in group :\n",
    "        for period in day:\n",
    "          if period == -1: continue\n",
    "          subject_periods_in_table[period]+=1\n",
    "      respected_constraints += np.sum(subject_periods_in_table == self.constraints[\"periods_by_subject\"])\n",
    "      total_constraints += self.constraints[\"nbr_of_subjects\"]\n",
    "      \n",
    "    score = 0.3*respected_constraints/total_constraints if respected_constraints < total_constraints else 0.8\n",
    "\n",
    "    bonus = 0\n",
    "    # check if the morning classes constraint is respected\n",
    "    for group in self.timetable:\n",
    "      for day in group:\n",
    "        for period in day:\n",
    "          if period == -1: continue\n",
    "          if period in self.constraints[\"preferences\"][\"morning_classes\"] and (day[0] == period or day[1] == period):\n",
    "            bonus += 1\n",
    "            break\n",
    "\n",
    "    score += (0.2 if respected_constraints == total_constraints else 0.01) * bonus / self.constraints[\"preferences\"][\"total_count\"]\n",
    "\n",
    "    return score + 0.0000000000001\n",
    "\n",
    "  def plot(self):\n",
    "    pass\n",
    "\n",
    "  def print(self):\n",
    "    print(self.fitness())\n",
    "    i=0\n",
    "    for group in self.timetable:\n",
    "      i+=1\n",
    "      print(\"Group : \"+str(i))\n",
    "      print(group)"
   ]
  },
  {
   "cell_type": "code",
   "execution_count": 99,
   "metadata": {},
   "outputs": [],
   "source": [
    "import pygad"
   ]
  },
  {
   "cell_type": "code",
   "execution_count": 100,
   "metadata": {},
   "outputs": [],
   "source": [
    "def fitness_func(ga_instance, solution, solution_idx):\n",
    "    timeTable = Timetable(solution, timetable_constraints)\n",
    "    fitness = timeTable.fitness()\n",
    "    return fitness"
   ]
  },
  {
   "cell_type": "code",
   "execution_count": 101,
   "metadata": {},
   "outputs": [],
   "source": [
    "fitness_function = fitness_func\n",
    "\n",
    "num_generations = 2000\n",
    "num_parents_mating = 50\n",
    "\n",
    "sol_per_pop = 200\n",
    "gene_space = [ \n",
    "              { \n",
    "                \"low\" : -1, \n",
    "                \"high\": timetable_constraints[\"nbr_of_subjects\"],\n",
    "                \"step\": 1\n",
    "              } \n",
    "              for _ in range(timetable_constraints[\"nbr_of_groups\"] * timetable_constraints[\"nbr_of_days\"] * timetable_constraints[\"nbr_of_periods_per_day\"])\n",
    "             ]\n",
    "num_genes = timetable_constraints[\"nbr_of_days\"] * timetable_constraints[\"nbr_of_periods_per_day\"] * timetable_constraints[\"nbr_of_groups\"]\n",
    "gene_type = [int for _ in range(num_genes)]\n",
    "\n",
    "parent_selection_type = \"sss\"\n",
    "keep_parents = 1\n",
    "\n",
    "crossover_type = \"single_point\"\n",
    "\n",
    "mutation_type = \"random\"\n",
    "mutation_percent_genes = 10"
   ]
  },
  {
   "cell_type": "code",
   "execution_count": null,
   "metadata": {},
   "outputs": [],
   "source": []
  },
  {
   "cell_type": "code",
   "execution_count": 102,
   "metadata": {},
   "outputs": [
    {
     "name": "stderr",
     "output_type": "stream",
     "text": [
      "Fitness=0.9600\t: 100%|████████████████████| 2000/2000 [02:26<00:00, 13.67it/s]\n",
      "No artists with labels found to put in legend.  Note that artists whose label start with an underscore are ignored when legend() is called with no argument.\n"
     ]
    },
    {
     "name": "stdout",
     "output_type": "stream",
     "text": [
      "Fitness of the best solution : 0.9600000000001001\n"
     ]
    },
    {
     "data": {
      "image/png": "[encoded data removed]",
      "text/plain": [
       "<Figure size 640x480 with 1 Axes>"
      ]
     },
     "metadata": {},
     "output_type": "display_data"
    },
    {
     "data": {
      "image/png": "[encoded data removed]",
      "text/plain": [
       "<Figure size 640x480 with 1 Axes>"
      ]
     },
     "execution_count": 102,
     "metadata": {},
     "output_type": "execute_result"
    }
   ],
   "source": [
    "from tqdm import tqdm\n",
    "progress_bar = tqdm(total=num_generations, bar_format='{l_bar}{bar:20}{r_bar}{bar:-10b}')\n",
    "\n",
    "def on_gen(ga_instance):\n",
    "    progress_bar.update(1)\n",
    "    progress_bar.set_description_str(\"Fitness={fitness:.4f}\\t\".format(fitness=ga_instance.best_solution()[1]))\n",
    "    # print(\"Fitness of the best solution :\", ga_instance.best_solution()[1])\n",
    "\n",
    "def on_stop(ga_instance, last_generation_fitness):\n",
    "    progress_bar.close()\n",
    "    print(\"Fitness of the best solution :\", ga_instance.best_solution()[1])\n",
    "\n",
    "ga_instance = pygad.GA(num_generations=num_generations,\n",
    "                       on_generation=on_gen,\n",
    "                       num_parents_mating=num_parents_mating,\n",
    "                       fitness_func=fitness_function,\n",
    "                       sol_per_pop=sol_per_pop,\n",
    "                       gene_space=gene_space,\n",
    "                       parent_selection_type=parent_selection_type,\n",
    "                       keep_parents=keep_parents,\n",
    "                       crossover_type=crossover_type,\n",
    "                       mutation_type=mutation_type,\n",
    "                       mutation_percent_genes=mutation_percent_genes,\n",
    "                      #  mutation_probability=[0.5, 0.1],\n",
    "                       gene_type=gene_type,\n",
    "                       num_genes=num_genes,\n",
    "                       on_stop=on_stop\n",
    "                      )\n",
    "\n",
    "ga_instance.run()\n",
    "ga_instance.plot_fitness()"
   ]
  },
  {
   "cell_type": "code",
   "execution_count": 103,
   "metadata": {},
   "outputs": [],
   "source": [
    "progress_bar.close()"
   ]
  },
  {
   "cell_type": "code",
   "execution_count": 104,
   "metadata": {},
   "outputs": [
    {
     "name": "stdout",
     "output_type": "stream",
     "text": [
      "Parameters of the best solution : [2 0 1 2 2 0 -1 1 1 2 2 1 0 1 -1 1 -1 0 -1 2 -1 2 1 1 -1 0 2 2 0 2 1 -1 0\n",
      " 1 1 1 0 2 2 -1 2 0 -1 2 1 0 2 -1 0 1 1 1 -1 1 -1 2 2 0 2 1]\n",
      "Fitness value of the best solution = 0.9600000000001001\n"
     ]
    }
   ],
   "source": [
    "solution, solution_fitness, solution_idx = ga_instance.best_solution()\n",
    "print(\"Parameters of the best solution : {solution}\".format(solution=solution))\n",
    "print(\"Fitness value of the best solution = {solution_fitness}\".format(solution_fitness=solution_fitness))"
   ]
  },
  {
   "cell_type": "code",
   "execution_count": 105,
   "metadata": {},
   "outputs": [],
   "source": [
    "timetable = Timetable(solution, timetable_constraints)"
   ]
  },
  {
   "cell_type": "code",
   "execution_count": 111,
   "metadata": {},
   "outputs": [
    {
     "data": {
      "text/html": [
       "<div>\n",
       "<style scoped>\n",
       "    .dataframe tbody tr th:only-of-type {\n",
       "        vertical-align: middle;\n",
       "    }\n",
       "\n",
       "    .dataframe tbody tr th {\n",
       "        vertical-align: top;\n",
       "    }\n",
       "\n",
       "    .dataframe thead th {\n",
       "        text-align: right;\n",
       "    }\n",
       "</style>\n",
       "<table border=\"1\" class=\"dataframe\">\n",
       "  <thead>\n",
       "    <tr style=\"text-align: right;\">\n",
       "      <th></th>\n",
       "      <th>0</th>\n",
       "      <th>1</th>\n",
       "      <th>2</th>\n",
       "      <th>3</th>\n",
       "      <th>4</th>\n",
       "    </tr>\n",
       "  </thead>\n",
       "  <tbody>\n",
       "    <tr>\n",
       "      <th>Day</th>\n",
       "      <td>Day 1</td>\n",
       "      <td>Day 2</td>\n",
       "      <td>Day 3</td>\n",
       "      <td>Day 4</td>\n",
       "      <td>Day 5</td>\n",
       "    </tr>\n",
       "    <tr>\n",
       "      <th>0</th>\n",
       "      <td>Anglais</td>\n",
       "      <td>Français</td>\n",
       "      <td>Maths</td>\n",
       "      <td>-</td>\n",
       "      <td>Anglais</td>\n",
       "    </tr>\n",
       "    <tr>\n",
       "      <th>1</th>\n",
       "      <td>Maths</td>\n",
       "      <td>Maths</td>\n",
       "      <td>Français</td>\n",
       "      <td>Français</td>\n",
       "      <td>Maths</td>\n",
       "    </tr>\n",
       "    <tr>\n",
       "      <th>2</th>\n",
       "      <td>-</td>\n",
       "      <td>Anglais</td>\n",
       "      <td>Français</td>\n",
       "      <td>-</td>\n",
       "      <td>Anglais</td>\n",
       "    </tr>\n",
       "    <tr>\n",
       "      <th>3</th>\n",
       "      <td>Anglais</td>\n",
       "      <td>-</td>\n",
       "      <td>Français</td>\n",
       "      <td>Anglais</td>\n",
       "      <td>Français</td>\n",
       "    </tr>\n",
       "  </tbody>\n",
       "</table>\n",
       "</div>"
      ],
      "text/plain": [
       "           0         1         2         3         4\n",
       "Day    Day 1     Day 2     Day 3     Day 4     Day 5\n",
       "0    Anglais  Français     Maths         -   Anglais\n",
       "1      Maths     Maths  Français  Français     Maths\n",
       "2          -   Anglais  Français         -   Anglais\n",
       "3    Anglais         -  Français   Anglais  Français"
      ]
     },
     "execution_count": 111,
     "metadata": {},
     "output_type": "execute_result"
    }
   ],
   "source": [
    "table = timetable.timetable\n",
    "table = [[[\"-\" if period == -1 else timetable_constraints[\"subject_names\"][period] for period in day] for day in group] for group in table]\n",
    "\n",
    "import pandas as pd\n",
    "table_pd = pd.DataFrame(table[2])\n",
    "# add day and period columns\n",
    "table_pd.insert(0, \"Day\", [\"Day \"+str(i) for i in range(1, timetable_constraints[\"nbr_of_days\"]+1)])\n",
    "#rotate the table\n",
    "table_pd = table_pd.transpose()\n",
    "table_pd"
   ]
  }
 ],
 "metadata": {
  "kernelspec": {
   "display_name": "v0.0",
   "language": "python",
   "name": "python3"
  },
  "language_info": {
   "codemirror_mode": {
    "name": "ipython",
    "version": 3
   },
   "file_extension": ".py",
   "mimetype": "text/x-python",
   "name": "python",
   "nbconvert_exporter": "python",
   "pygments_lexer": "ipython3",
   "version": "3.10.11"
  },
  "orig_nbformat": 4
 },
 "nbformat": 4,
 "nbformat_minor": 2
}
