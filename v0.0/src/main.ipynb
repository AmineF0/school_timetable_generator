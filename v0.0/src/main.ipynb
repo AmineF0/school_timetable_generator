{
 "cells": [
  {
   "cell_type": "code",
   "execution_count": 59,
   "metadata": {},
   "outputs": [],
   "source": [
    "import numpy as np"
   ]
  },
  {
   "cell_type": "code",
   "execution_count": 60,
   "metadata": {},
   "outputs": [],
   "source": [
    "timetable_constraints = {\n",
    "  \"nbr_of_days\": 5,\n",
    "  \"nbr_of_periods_per_day\": 4,\n",
    "  \"nbr_of_subjects\": 3,\n",
    "  \"nbr_of_groups\": 2,\n",
    "  \"periods_by_subject\": [2, 2, 2],\n",
    "  \"subject_names\": [\"Maths\", \"Français\", \"Anglais\"],\n",
    "  \"group_names\": [\"Groupe 1\", \"Groupe 2\"],\n",
    "}"
   ]
  },
  {
   "cell_type": "code",
   "execution_count": 61,
   "metadata": {},
   "outputs": [],
   "source": [
    "class Timetable:\n",
    "  def __init__(self, npArray, constraints):\n",
    "    self.constraints = constraints\n",
    "    # timetable as a 3d array ( group, day, period) => subject from npArray\n",
    "    self.timetable = npArray.reshape(\n",
    "      (constraints[\"nbr_of_groups\"], constraints[\"nbr_of_days\"], constraints[\"nbr_of_periods_per_day\"])\n",
    "    )\n",
    "    pass\n",
    "\n",
    "  def toNpArray(self):\n",
    "    return self.timetable.flatten()\n",
    "\n",
    "  def isValid(self):\n",
    "    pass\n",
    "\n",
    "  def fitness(self):\n",
    "    # return 1 if it is a valid timetable\n",
    "    # return 0 if it is totally not\n",
    "    # return a value between 0 and 0.8 if it is partially valid\n",
    "    # a valid timetable is a timetable that respects all the constraints\n",
    "    # a partially valid timetable is a timetable that respects some of the constraints\n",
    "    # a totally invalid timetable is a timetable that respects none of the constraints\n",
    "    # the value returned is the percentage of constraints that are respected\n",
    "\n",
    "    respected_constraints = 0\n",
    "    total_constraints = 0\n",
    "\n",
    "    for group in self.timetable:\n",
    "      subject_periods_in_table = np.zeros(self.constraints[\"nbr_of_subjects\"])\n",
    "      for day in group :\n",
    "        for period in day:\n",
    "          if period == -1: continue\n",
    "          subject_periods_in_table[period]+=1\n",
    "      respected_constraints += np.sum(subject_periods_in_table == self.constraints[\"periods_by_subject\"])\n",
    "      total_constraints += self.constraints[\"nbr_of_subjects\"]\n",
    "      \n",
    "    if respected_constraints == total_constraints: return 1\n",
    "    return 0.75*respected_constraints/total_constraints + 0.000001\n",
    "\n",
    "  def plot(self):\n",
    "    pass\n",
    "\n",
    "  def print(self):\n",
    "    print(self.fitness())\n",
    "    i=0\n",
    "    for group in self.timetable:\n",
    "      i+=1\n",
    "      print(\"Group : \"+str(i))\n",
    "      print(group)"
   ]
  },
  {
   "cell_type": "code",
   "execution_count": 62,
   "metadata": {},
   "outputs": [],
   "source": [
    "import pygad"
   ]
  },
  {
   "cell_type": "code",
   "execution_count": 63,
   "metadata": {},
   "outputs": [],
   "source": [
    "def fitness_func(ga_instance, solution, solution_idx):\n",
    "    timeTable = Timetable(solution, timetable_constraints)\n",
    "    fitness = timeTable.fitness()\n",
    "    return fitness"
   ]
  },
  {
   "cell_type": "code",
   "execution_count": 64,
   "metadata": {},
   "outputs": [],
   "source": [
    "fitness_function = fitness_func\n",
    "\n",
    "num_generations = 100\n",
    "num_parents_mating = 200\n",
    "\n",
    "sol_per_pop = 10000\n",
    "gene_space = [ \n",
    "              { \n",
    "                \"low\" : 0, \n",
    "                \"high\": timetable_constraints[\"nbr_of_subjects\"],\n",
    "                \"step\": 1\n",
    "              } \n",
    "              for _ in range(timetable_constraints[\"nbr_of_groups\"] * timetable_constraints[\"nbr_of_days\"] * timetable_constraints[\"nbr_of_periods_per_day\"])\n",
    "             ]\n",
    "num_genes = timetable_constraints[\"nbr_of_days\"] * timetable_constraints[\"nbr_of_periods_per_day\"] * timetable_constraints[\"nbr_of_groups\"]\n",
    "gene_type = [int for _ in range(num_genes)]\n",
    "\n",
    "parent_selection_type = \"sus\"\n",
    "keep_parents = 1\n",
    "\n",
    "crossover_type = \"single_point\"\n",
    "\n",
    "mutation_type = \"random\"\n",
    "mutation_percent_genes = 20"
   ]
  },
  {
   "cell_type": "code",
   "execution_count": 65,
   "metadata": {},
   "outputs": [],
   "source": [
    "ga_instance = pygad.GA(num_generations=num_generations,\n",
    "                       num_parents_mating=num_parents_mating,\n",
    "                       fitness_func=fitness_function,\n",
    "                       sol_per_pop=sol_per_pop,\n",
    "                       gene_space=gene_space,\n",
    "                       parent_selection_type=parent_selection_type,\n",
    "                       keep_parents=keep_parents,\n",
    "                       crossover_type=crossover_type,\n",
    "                       mutation_type=mutation_type,\n",
    "                       mutation_percent_genes=mutation_percent_genes,\n",
    "                       gene_type=gene_type,\n",
    "                       num_genes=num_genes\n",
    "                      )\n",
    "                       \n",
    "ga_instance.run()"
   ]
  },
  {
   "cell_type": "code",
   "execution_count": null,
   "metadata": {},
   "outputs": [
    {
     "name": "stdout",
     "output_type": "stream",
     "text": [
      "Parameters of the best solution : [0 1 1 1 1 2 0 1 1 1 1 1 1 1 1 1 1 1 1 2 1 0 2 1 2 2 1 1 1 2 1 1 2 2 1 2 1\n",
      " 0 1 1]\n",
      "Fitness value of the best solution = 0.500001\n"
     ]
    }
   ],
   "source": [
    "solution, solution_fitness, solution_idx = ga_instance.best_solution()\n",
    "print(\"Parameters of the best solution : {solution}\".format(solution=solution))\n",
    "print(\"Fitness value of the best solution = {solution_fitness}\".format(solution_fitness=solution_fitness))"
   ]
  },
  {
   "cell_type": "code",
   "execution_count": null,
   "metadata": {},
   "outputs": [
    {
     "name": "stdout",
     "output_type": "stream",
     "text": [
      "0.500001\n",
      "Group : 1\n",
      "[[0 1 1 1]\n",
      " [1 2 0 1]\n",
      " [1 1 1 1]\n",
      " [1 1 1 1]\n",
      " [1 1 1 2]]\n",
      "Group : 2\n",
      "[[1 0 2 1]\n",
      " [2 2 1 1]\n",
      " [1 2 1 1]\n",
      " [2 2 1 2]\n",
      " [1 0 1 1]]\n"
     ]
    }
   ],
   "source": [
    "timetable = Timetable(solution, timetable_constraints)\n",
    "timetable.print()"
   ]
  }
 ],
 "metadata": {
  "kernelspec": {
   "display_name": "v0.0",
   "language": "python",
   "name": "python3"
  },
  "language_info": {
   "codemirror_mode": {
    "name": "ipython",
    "version": 3
   },
   "file_extension": ".py",
   "mimetype": "text/x-python",
   "name": "python",
   "nbconvert_exporter": "python",
   "pygments_lexer": "ipython3",
   "version": "3.10.11"
  },
  "orig_nbformat": 4
 },
 "nbformat": 4,
 "nbformat_minor": 2
}
